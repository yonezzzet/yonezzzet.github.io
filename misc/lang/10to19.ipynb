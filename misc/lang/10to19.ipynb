{
 "cells": [
  {
   "cell_type": "code",
   "execution_count": 12,
   "metadata": {},
   "outputs": [
    {
     "data": {
      "text/plain": [
       "('hightemp.txt', <http.client.HTTPMessage at 0x10f5e67f0>)"
      ]
     },
     "execution_count": 12,
     "metadata": {},
     "output_type": "execute_result"
    }
   ],
   "source": [
    "import urllib\n",
    "\n",
    "url  = \"http://www.cl.ecei.tohoku.ac.jp/nlp100/data/hightemp.txt\"\n",
    "urllib.request.urlretrieve(url, 'hightemp.txt')"
   ]
  },
  {
   "cell_type": "markdown",
   "metadata": {},
   "source": [
    "## 10. 行数のカウント"
   ]
  },
  {
   "cell_type": "code",
   "execution_count": 13,
   "metadata": {},
   "outputs": [
    {
     "name": "stdout",
     "output_type": "stream",
     "text": [
      "24\n"
     ]
    }
   ],
   "source": [
    "i = 0\n",
    "with open('hightemp.txt') as f:\n",
    "    for line in f:\n",
    "        i=i+1\n",
    "\n",
    "print(i)"
   ]
  },
  {
   "cell_type": "markdown",
   "metadata": {},
   "source": [
    "## 11. タブをスペースに置換"
   ]
  },
  {
   "cell_type": "code",
   "execution_count": 14,
   "metadata": {},
   "outputs": [
    {
     "name": "stdout",
     "output_type": "stream",
     "text": [
      "高知県 江川崎 41 2013-08-12\n",
      "埼玉県 熊谷 40.9 2007-08-16\n",
      "岐阜県 多治見 40.9 2007-08-16\n",
      "山形県 山形 40.8 1933-07-25\n",
      "山梨県 甲府 40.7 2013-08-10\n",
      "和歌山県 かつらぎ 40.6 1994-08-08\n",
      "静岡県 天竜 40.6 1994-08-04\n",
      "山梨県 勝沼 40.5 2013-08-10\n",
      "埼玉県 越谷 40.4 2007-08-16\n",
      "群馬県 館林 40.3 2007-08-16\n",
      "群馬県 上里見 40.3 1998-07-04\n",
      "愛知県 愛西 40.3 1994-08-05\n",
      "千葉県 牛久 40.2 2004-07-20\n",
      "静岡県 佐久間 40.2 2001-07-24\n",
      "愛媛県 宇和島 40.2 1927-07-22\n",
      "山形県 酒田 40.1 1978-08-03\n",
      "岐阜県 美濃 40 2007-08-16\n",
      "群馬県 前橋 40 2001-07-24\n",
      "千葉県 茂原 39.9 2013-08-11\n",
      "埼玉県 鳩山 39.9 1997-07-05\n",
      "大阪府 豊中 39.9 1994-08-08\n",
      "山梨県 大月 39.9 1990-07-19\n",
      "山形県 鶴岡 39.9 1978-08-03\n",
      "愛知県 名古屋 39.9 1942-08-02\n"
     ]
    }
   ],
   "source": [
    "with open('hightemp.txt') as f:\n",
    "    for line in f:\n",
    "        print(line.expandtabs(1),end='')"
   ]
  },
  {
   "cell_type": "markdown",
   "metadata": {},
   "source": [
    "## 12. 1列目をcol1.txtに，2列目をcol2.txtに保存"
   ]
  },
  {
   "cell_type": "code",
   "execution_count": 15,
   "metadata": {
    "collapsed": true
   },
   "outputs": [],
   "source": [
    "f = open('hightemp.txt')\n",
    "f_col1 = open('col1.txt','w')\n",
    "f_col2 = open('col2.txt','w')\n",
    "\n",
    "with f,f_col1,f_col2:\n",
    "    for line in f:\n",
    "        print(line.split()[0],file=f_col1)\n",
    "        print(line.split()[1],file=f_col2)"
   ]
  },
  {
   "cell_type": "markdown",
   "metadata": {},
   "source": [
    "## 13. col1.txtとcol2.txtをマージ"
   ]
  },
  {
   "cell_type": "code",
   "execution_count": 16,
   "metadata": {
    "collapsed": true
   },
   "outputs": [],
   "source": [
    "f_col1 = open('col1.txt')\n",
    "f_col2 = open('col2.txt')\n",
    "f_col3 = open('col12.txt','w')\n",
    "\n",
    "with f_col1,f_col2,f_col3:\n",
    "    while True:\n",
    "        line1 = f_col1.readline()\n",
    "        line2 = f_col2.readline()\n",
    "        if not line1:\n",
    "            break\n",
    "        print(\"{0} {1}\".format(line1.rstrip('\\n'),line2.rstrip('\\n')),file=f_col3)"
   ]
  },
  {
   "cell_type": "markdown",
   "metadata": {},
   "source": [
    "## 14. 先頭からN行を出力"
   ]
  },
  {
   "cell_type": "code",
   "execution_count": 17,
   "metadata": {},
   "outputs": [
    {
     "name": "stdout",
     "output_type": "stream",
     "text": [
      "高知県\t江川崎\t41\t2013-08-12\n",
      "埼玉県\t熊谷\t40.9\t2007-08-16\n",
      "岐阜県\t多治見\t40.9\t2007-08-16\n"
     ]
    }
   ],
   "source": [
    "#import sys\n",
    "#n = int(sys.argv[1])\n",
    "n = 3\n",
    "with open('hightemp.txt') as f:\n",
    "    for i in range(n):\n",
    "        print(f.readline(),end='')"
   ]
  },
  {
   "cell_type": "markdown",
   "metadata": {},
   "source": [
    "## 15. 末尾のN行を出力"
   ]
  },
  {
   "cell_type": "code",
   "execution_count": 18,
   "metadata": {},
   "outputs": [
    {
     "name": "stdout",
     "output_type": "stream",
     "text": [
      "山梨県\t大月\t39.9\t1990-07-19\n",
      "山形県\t鶴岡\t39.9\t1978-08-03\n",
      "愛知県\t名古屋\t39.9\t1942-08-02\n"
     ]
    }
   ],
   "source": [
    "#import sys\n",
    "#n = int(sys.argv[1])\n",
    "n = 3\n",
    "with open('hightemp.txt') as f:\n",
    "    lines = f.readlines() #大富豪的\n",
    "    for i in range(len(lines)-n,len(lines)):\n",
    "        print(lines[i],end='')"
   ]
  },
  {
   "cell_type": "markdown",
   "metadata": {},
   "source": [
    "## 16. ファイルをN分割する"
   ]
  },
  {
   "cell_type": "code",
   "execution_count": 11,
   "metadata": {},
   "outputs": [],
   "source": [
    "#import sys\n",
    "#n = int(sys.argv[1])\n",
    "n = 3\n",
    "with open('hightemp.txt') as f:\n",
    "    lines = f.readlines()\n",
    "    le = len(lines)\n",
    "    lst = [le//n + (1 if i < 100 % n else 0) for i in range(n)]\n",
    "    file_names = [chr(ord('a')+i) for i in range(n)]\n",
    "    start = 0 \n",
    "    for (i,item) in enumerate(lst):\n",
    "        with open(file_names[i],'w') as f_w:\n",
    "            for row in range(start,start+item):\n",
    "                print(lines[row],file=f_w,end='')\n",
    "                start = item\n"
   ]
  },
  {
   "cell_type": "markdown",
   "metadata": {},
   "source": [
    "## 17. １列目の文字列の異なり"
   ]
  },
  {
   "cell_type": "code",
   "execution_count": 23,
   "metadata": {},
   "outputs": [
    {
     "name": "stdout",
     "output_type": "stream",
     "text": [
      "千葉県\n",
      "和歌山県\n",
      "埼玉県\n",
      "大阪府\n",
      "山形県\n",
      "山梨県\n",
      "岐阜県\n",
      "愛媛県\n",
      "愛知県\n",
      "群馬県\n",
      "静岡県\n",
      "高知県\n"
     ]
    }
   ],
   "source": [
    "items = set()\n",
    "with open('hightemp.txt') as f:\n",
    "    for line in f:\n",
    "        items.add(line.split()[0])\n",
    "\n",
    "sorted_items = sorted(items)\n",
    "for item in sorted_items:\n",
    "    print(item)"
   ]
  },
  {
   "cell_type": "markdown",
   "metadata": {},
   "source": [
    "## 18. 各行を3コラム目の数値の降順にソート"
   ]
  },
  {
   "cell_type": "code",
   "execution_count": 46,
   "metadata": {},
   "outputs": [
    {
     "name": "stdout",
     "output_type": "stream",
     "text": [
      "高知県\t江川崎\t41\t2013-08-12\n",
      "埼玉県\t熊谷\t40.9\t2007-08-16\n",
      "岐阜県\t多治見\t40.9\t2007-08-16\n",
      "山形県\t山形\t40.8\t1933-07-25\n",
      "山梨県\t甲府\t40.7\t2013-08-10\n",
      "和歌山県\tかつらぎ\t40.6\t1994-08-08\n",
      "静岡県\t天竜\t40.6\t1994-08-04\n",
      "山梨県\t勝沼\t40.5\t2013-08-10\n",
      "埼玉県\t越谷\t40.4\t2007-08-16\n",
      "群馬県\t館林\t40.3\t2007-08-16\n",
      "群馬県\t上里見\t40.3\t1998-07-04\n",
      "愛知県\t愛西\t40.3\t1994-08-05\n",
      "千葉県\t牛久\t40.2\t2004-07-20\n",
      "静岡県\t佐久間\t40.2\t2001-07-24\n",
      "愛媛県\t宇和島\t40.2\t1927-07-22\n",
      "山形県\t酒田\t40.1\t1978-08-03\n",
      "岐阜県\t美濃\t40\t2007-08-16\n",
      "群馬県\t前橋\t40\t2001-07-24\n",
      "千葉県\t茂原\t39.9\t2013-08-11\n",
      "埼玉県\t鳩山\t39.9\t1997-07-05\n",
      "大阪府\t豊中\t39.9\t1994-08-08\n",
      "山梨県\t大月\t39.9\t1990-07-19\n",
      "山形県\t鶴岡\t39.9\t1978-08-03\n",
      "愛知県\t名古屋\t39.9\t1942-08-02\n"
     ]
    }
   ],
   "source": [
    "lst = []\n",
    "with open('hightemp.txt') as f:\n",
    "    for (i,line) in enumerate(f):\n",
    "        lst.append((line.split()))\n",
    "\n",
    "from operator import itemgetter\n",
    "sorted_lst = sorted(lst,key=itemgetter(2),reverse=True)\n",
    "for item in sorted_lst:\n",
    "    print(\"\\t\".join(item))"
   ]
  },
  {
   "cell_type": "markdown",
   "metadata": {},
   "source": [
    "## 19. 各行の1コラム目の文字列の出現頻度を求め，出現頻度の高い順に並べる"
   ]
  },
  {
   "cell_type": "code",
   "execution_count": 54,
   "metadata": {},
   "outputs": [
    {
     "data": {
      "text/plain": [
       "[('埼玉県', 3),\n",
       " ('山形県', 3),\n",
       " ('山梨県', 3),\n",
       " ('群馬県', 3),\n",
       " ('岐阜県', 2),\n",
       " ('静岡県', 2),\n",
       " ('愛知県', 2),\n",
       " ('千葉県', 2),\n",
       " ('高知県', 1),\n",
       " ('和歌山県', 1),\n",
       " ('愛媛県', 1),\n",
       " ('大阪府', 1)]"
      ]
     },
     "execution_count": 54,
     "metadata": {},
     "output_type": "execute_result"
    }
   ],
   "source": [
    "lst = []\n",
    "with open('hightemp.txt') as f:\n",
    "    for line in f:\n",
    "        lst.append(line.split()[0])\n",
    "\n",
    "# http://docs.python.jp/3/library/collections.html?highlight=collections#collections.Counter\n",
    "from collections import Counter\n",
    "c=Counter(lst).most_common()\n",
    "c"
   ]
  }
 ],
 "metadata": {
  "kernelspec": {
   "display_name": "Python 3",
   "language": "python",
   "name": "python3"
  },
  "language_info": {
   "codemirror_mode": {
    "name": "ipython",
    "version": 3
   },
   "file_extension": ".py",
   "mimetype": "text/x-python",
   "name": "python",
   "nbconvert_exporter": "python",
   "pygments_lexer": "ipython3",
   "version": "3.6.3"
  }
 },
 "nbformat": 4,
 "nbformat_minor": 2
}
