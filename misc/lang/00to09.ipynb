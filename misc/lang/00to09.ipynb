{
 "cells": [
  {
   "cell_type": "markdown",
   "metadata": {},
   "source": [
    "# 言語処理100本ノック\n",
    "http://www.cl.ecei.tohoku.ac.jp/nlp100/\n",
    "\n",
    "## 00. 文字列の逆順"
   ]
  },
  {
   "cell_type": "code",
   "execution_count": 1,
   "metadata": {},
   "outputs": [
    {
     "name": "stdout",
     "output_type": "stream",
     "text": [
      "desserts\n"
     ]
    }
   ],
   "source": [
    "str_in = \"stressed\"\n",
    "str_out = \"\"\n",
    "for i in range(len(str_in)):\n",
    "    str_out += str_in[-1-i]\n",
    "\n",
    "print(str_out)"
   ]
  },
  {
   "cell_type": "markdown",
   "metadata": {
    "collapsed": true
   },
   "source": [
    "## 01. 「パタトクカシーー」"
   ]
  },
  {
   "cell_type": "code",
   "execution_count": 2,
   "metadata": {},
   "outputs": [
    {
     "name": "stdout",
     "output_type": "stream",
     "text": [
      "パトカー\n"
     ]
    }
   ],
   "source": [
    "str_in = \"パタトクカシーー\"\n",
    "str_out = \"\"\n",
    "i = 0;\n",
    "while i < len(str_in):\n",
    "    str_out += str_in[i]\n",
    "    i=i+2\n",
    "\n",
    "print(str_out)"
   ]
  },
  {
   "cell_type": "markdown",
   "metadata": {},
   "source": [
    "## 02. 「パトカー」＋「タクシー」＝「パタトクカシーー」"
   ]
  },
  {
   "cell_type": "code",
   "execution_count": 3,
   "metadata": {},
   "outputs": [
    {
     "name": "stdout",
     "output_type": "stream",
     "text": [
      "パタトクカシーー\n"
     ]
    }
   ],
   "source": [
    "str1 = \"パトカー\"\n",
    "str2 = \"タクシー\"\n",
    "str3 = \"\"\n",
    "for i in range(len(str1)):\n",
    "    str3 += str1[i] + str2[i]\n",
    "\n",
    "print(str3)"
   ]
  },
  {
   "cell_type": "markdown",
   "metadata": {},
   "source": [
    "## 03. 円周率"
   ]
  },
  {
   "cell_type": "code",
   "execution_count": 4,
   "metadata": {},
   "outputs": [
    {
     "name": "stdout",
     "output_type": "stream",
     "text": [
      "[3, 1, 4, 1, 5, 9, 2, 6, 5, 3, 5, 8, 9, 7, 9]\n"
     ]
    }
   ],
   "source": [
    "import re\n",
    "str_in = \"Now I need a drink, alcoholic of course, after the heavy lectures involving quantum mechanics.\"\n",
    "lst = []\n",
    "for item in str_in.split():\n",
    "    lst.append(len(re.findall('[a-zA-Z]', item)))\n",
    "    \n",
    "print(lst)"
   ]
  },
  {
   "cell_type": "markdown",
   "metadata": {},
   "source": [
    "## 04. 元素記号"
   ]
  },
  {
   "cell_type": "code",
   "execution_count": 5,
   "metadata": {},
   "outputs": [
    {
     "name": "stdout",
     "output_type": "stream",
     "text": [
      "{'H': 1, 'He': 2, 'Li': 3, 'Be': 4, 'B': 5, 'C': 6, 'N': 7, 'O': 8, 'F': 9, 'Ne': 10, 'Na': 11, 'Mi': 12, 'Al': 13, 'Si': 14, 'P': 15, 'S': 16, 'Cl': 17, 'Ar': 18, 'K': 19, 'Ca': 20}\n"
     ]
    }
   ],
   "source": [
    "str_in = \"Hi He Lied Because Boron Could Not Oxidize Fluorine. New Nations Might Also Sign Peace Security Clause. Arthur King Can.\"\n",
    "single = [1,5,6,7,8,9,15,16,19]\n",
    "lst = str_in.split()\n",
    "arr = {}\n",
    "for i in range(len(lst)):\n",
    "    if i+1 in single:\n",
    "        arr[lst[i][:1]]=i+1\n",
    "    else:\n",
    "        arr[lst[i][:2]]=i+1\n",
    "\n",
    "print(arr)"
   ]
  },
  {
   "cell_type": "markdown",
   "metadata": {},
   "source": [
    "## 05. n-gram"
   ]
  },
  {
   "cell_type": "code",
   "execution_count": 6,
   "metadata": {},
   "outputs": [
    {
     "name": "stdout",
     "output_type": "stream",
     "text": [
      "['I ', ' a', 'am', 'm ', ' a', 'an', 'n ', ' N', 'NL', 'LP', 'Pe', 'er']\n",
      "[['I', 'am'], ['am', 'an'], ['an', 'NLPer']]\n"
     ]
    }
   ],
   "source": [
    "def ngram(n, seq):\n",
    "    lst = []\n",
    "    for i in range(len(seq)-n+1):\n",
    "        lst.append(seq[i:i+n])\n",
    "    return lst\n",
    "\n",
    "str_in = \"I am an NLPer\"\n",
    "print(ngram(2,str_in))\n",
    "print(ngram(2,str_in.split()))"
   ]
  },
  {
   "cell_type": "markdown",
   "metadata": {},
   "source": [
    "## 06. 集合"
   ]
  },
  {
   "cell_type": "code",
   "execution_count": 7,
   "metadata": {},
   "outputs": [
    {
     "name": "stdout",
     "output_type": "stream",
     "text": [
      "X|Y: {'di', 'se', 'is', 'ar', 'pa', 'gr', 'ag', 'ph', 'ra', 'ap', 'ad'}\n",
      "X&Y: {'ra', 'ar', 'pa', 'ap'}\n",
      "X-Y: {'di', 'se', 'is', 'ad'}\n",
      "Y-X: {'ph', 'ag', 'gr'}\n",
      "'se' in X: True\n",
      "'se' in Y: False\n"
     ]
    }
   ],
   "source": [
    "X = set(ngram(2,\"paraparaparadise\"))\n",
    "Y = set(ngram(2,\"paragraph\"))\n",
    "print(\"X|Y:\", X | Y)\n",
    "print(\"X&Y:\", X & Y)\n",
    "print(\"X-Y:\", X - Y)\n",
    "print(\"Y-X:\", Y - X)\n",
    "print(\"'se' in X:\",'se' in X)\n",
    "print(\"'se' in Y:\",'se' in Y)"
   ]
  },
  {
   "cell_type": "markdown",
   "metadata": {},
   "source": [
    "## 07. テンプレートによる文生成"
   ]
  },
  {
   "cell_type": "code",
   "execution_count": 8,
   "metadata": {},
   "outputs": [
    {
     "data": {
      "text/plain": [
       "'12時の気温は22.4'"
      ]
     },
     "execution_count": 8,
     "metadata": {},
     "output_type": "execute_result"
    }
   ],
   "source": [
    "def xyz(x,y,z):\n",
    "    return \"{0}時の{1}は{2}\".format(x,y,z)\n",
    "\n",
    "xyz(12,\"気温\",22.4)"
   ]
  },
  {
   "cell_type": "markdown",
   "metadata": {},
   "source": [
    "## 08. 暗号文"
   ]
  },
  {
   "cell_type": "code",
   "execution_count": 9,
   "metadata": {},
   "outputs": [
    {
     "name": "stdout",
     "output_type": "stream",
     "text": [
      "I'n z olhvi yzyb, hl dsb wlm'g blf proo nv?\n",
      "I'm a loser baby, so why don't you kill me?\n"
     ]
    }
   ],
   "source": [
    "def cipher(str_in):\n",
    "    str_out = \"\"\n",
    "    for c in str_in:\n",
    "        if 'a' <= c <= 'z':\n",
    "            str_out += chr(219-ord(c))\n",
    "        else:\n",
    "            str_out += c\n",
    "            \n",
    "    return str_out\n",
    "\n",
    "out1 = cipher(\"I'm a loser baby, so why don't you kill me?\")\n",
    "out2 = cipher(out1)\n",
    "print(out1)\n",
    "print(out2)"
   ]
  },
  {
   "cell_type": "markdown",
   "metadata": {},
   "source": [
    "## 09. Typoglycemia"
   ]
  },
  {
   "cell_type": "code",
   "execution_count": 10,
   "metadata": {},
   "outputs": [
    {
     "name": "stdout",
     "output_type": "stream",
     "text": [
      "I coun'ldt bveleie that I could autllacy uesnrnadtd what I was rdnaieg : the paennehoml pweor of the haumn mind .\n"
     ]
    }
   ],
   "source": [
    "str_in = \"I couldn't believe that I could actually understand what I was reading : the phenomenal power of the human mind .\"\n",
    "\n",
    "import random\n",
    "\n",
    "out_list = []\n",
    "for w in str_in.split():\n",
    "    if len(w) > 4:\n",
    "        lst = [w[0]] + random.sample(w[1:len(w)-1],len(w)-2) + [w[-1]]\n",
    "        out_list.append(\"\".join(lst))\n",
    "    else:\n",
    "        out_list.append(w)\n",
    "\n",
    "print(\" \".join(out_list))"
   ]
  }
 ],
 "metadata": {
  "kernelspec": {
   "display_name": "Python 3",
   "language": "python",
   "name": "python3"
  },
  "language_info": {
   "codemirror_mode": {
    "name": "ipython",
    "version": 3
   },
   "file_extension": ".py",
   "mimetype": "text/x-python",
   "name": "python",
   "nbconvert_exporter": "python",
   "pygments_lexer": "ipython3",
   "version": "3.6.3"
  }
 },
 "nbformat": 4,
 "nbformat_minor": 2
}
